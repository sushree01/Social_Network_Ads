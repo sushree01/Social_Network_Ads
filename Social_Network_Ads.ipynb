{
 "cells": [
  {
   "cell_type": "markdown",
   "id": "a867513a",
   "metadata": {},
   "source": [
    "## 1.Loading the Required Libraries"
   ]
  },
  {
   "cell_type": "code",
   "execution_count": 1,
   "id": "ab501095",
   "metadata": {},
   "outputs": [],
   "source": [
    "import numpy as np\n",
    "import pandas as pd\n",
    "import matplotlib.pyplot as plt\n",
    "import seaborn as sns"
   ]
  },
  {
   "cell_type": "code",
   "execution_count": 44,
   "id": "f4c32df0",
   "metadata": {},
   "outputs": [],
   "source": [
    "from warnings import filterwarnings\n",
    "filterwarnings('ignore')"
   ]
  },
  {
   "cell_type": "code",
   "execution_count": 87,
   "id": "70895b83",
   "metadata": {},
   "outputs": [],
   "source": [
    "from sklearn.preprocessing import StandardScaler\n",
    "from sklearn.model_selection import train_test_split\n",
    "from sklearn.linear_model import LogisticRegression\n",
    "from sklearn.tree import DecisionTreeClassifier\n",
    "from sklearn.ensemble import RandomForestClassifier\n",
    "from sklearn.neighbors import KNeighborsClassifier\n",
    "from sklearn.naive_bayes import GaussianNB\n",
    "from sklearn.svm import SVC"
   ]
  },
  {
   "cell_type": "code",
   "execution_count": 57,
   "id": "1d0eea11",
   "metadata": {},
   "outputs": [],
   "source": [
    "from sklearn.metrics import confusion_matrix,classification_report,accuracy_score,roc_curve,auc,precision_score,recall_score,f1_score"
   ]
  },
  {
   "cell_type": "markdown",
   "id": "577e2559",
   "metadata": {},
   "source": [
    "## 2.Loading the Dataset"
   ]
  },
  {
   "cell_type": "code",
   "execution_count": 2,
   "id": "68caffe0",
   "metadata": {},
   "outputs": [
    {
     "data": {
      "text/html": [
       "<div>\n",
       "<style scoped>\n",
       "    .dataframe tbody tr th:only-of-type {\n",
       "        vertical-align: middle;\n",
       "    }\n",
       "\n",
       "    .dataframe tbody tr th {\n",
       "        vertical-align: top;\n",
       "    }\n",
       "\n",
       "    .dataframe thead th {\n",
       "        text-align: right;\n",
       "    }\n",
       "</style>\n",
       "<table border=\"1\" class=\"dataframe\">\n",
       "  <thead>\n",
       "    <tr style=\"text-align: right;\">\n",
       "      <th></th>\n",
       "      <th>User ID</th>\n",
       "      <th>Gender</th>\n",
       "      <th>Age</th>\n",
       "      <th>EstimatedSalary</th>\n",
       "      <th>Purchased</th>\n",
       "    </tr>\n",
       "  </thead>\n",
       "  <tbody>\n",
       "    <tr>\n",
       "      <th>0</th>\n",
       "      <td>15624510</td>\n",
       "      <td>Male</td>\n",
       "      <td>19</td>\n",
       "      <td>19000</td>\n",
       "      <td>0</td>\n",
       "    </tr>\n",
       "    <tr>\n",
       "      <th>1</th>\n",
       "      <td>15810944</td>\n",
       "      <td>Male</td>\n",
       "      <td>35</td>\n",
       "      <td>20000</td>\n",
       "      <td>0</td>\n",
       "    </tr>\n",
       "    <tr>\n",
       "      <th>2</th>\n",
       "      <td>15668575</td>\n",
       "      <td>Female</td>\n",
       "      <td>26</td>\n",
       "      <td>43000</td>\n",
       "      <td>0</td>\n",
       "    </tr>\n",
       "    <tr>\n",
       "      <th>3</th>\n",
       "      <td>15603246</td>\n",
       "      <td>Female</td>\n",
       "      <td>27</td>\n",
       "      <td>57000</td>\n",
       "      <td>0</td>\n",
       "    </tr>\n",
       "    <tr>\n",
       "      <th>4</th>\n",
       "      <td>15804002</td>\n",
       "      <td>Male</td>\n",
       "      <td>19</td>\n",
       "      <td>76000</td>\n",
       "      <td>0</td>\n",
       "    </tr>\n",
       "  </tbody>\n",
       "</table>\n",
       "</div>"
      ],
      "text/plain": [
       "    User ID  Gender  Age  EstimatedSalary  Purchased\n",
       "0  15624510    Male   19            19000          0\n",
       "1  15810944    Male   35            20000          0\n",
       "2  15668575  Female   26            43000          0\n",
       "3  15603246  Female   27            57000          0\n",
       "4  15804002    Male   19            76000          0"
      ]
     },
     "execution_count": 2,
     "metadata": {},
     "output_type": "execute_result"
    }
   ],
   "source": [
    "df_ads=pd.read_csv('C:/Users/Sushree Jena/Desktop/imarticus/machine learning/Kaggle/social/Social_Network_Ads.csv')\n",
    "df_ads.head()"
   ]
  },
  {
   "cell_type": "code",
   "execution_count": 3,
   "id": "bb0a5200",
   "metadata": {},
   "outputs": [
    {
     "data": {
      "text/plain": [
       "(400, 5)"
      ]
     },
     "execution_count": 3,
     "metadata": {},
     "output_type": "execute_result"
    }
   ],
   "source": [
    "df_ads.shape"
   ]
  },
  {
   "cell_type": "markdown",
   "id": "e4f7739a",
   "metadata": {},
   "source": [
    "## 3.Explorartry Data Analysis"
   ]
  },
  {
   "cell_type": "code",
   "execution_count": 4,
   "id": "fea7eb37",
   "metadata": {},
   "outputs": [
    {
     "name": "stdout",
     "output_type": "stream",
     "text": [
      "<class 'pandas.core.frame.DataFrame'>\n",
      "RangeIndex: 400 entries, 0 to 399\n",
      "Data columns (total 5 columns):\n",
      " #   Column           Non-Null Count  Dtype \n",
      "---  ------           --------------  ----- \n",
      " 0   User ID          400 non-null    int64 \n",
      " 1   Gender           400 non-null    object\n",
      " 2   Age              400 non-null    int64 \n",
      " 3   EstimatedSalary  400 non-null    int64 \n",
      " 4   Purchased        400 non-null    int64 \n",
      "dtypes: int64(4), object(1)\n",
      "memory usage: 15.8+ KB\n"
     ]
    }
   ],
   "source": [
    "df_ads.info()"
   ]
  },
  {
   "cell_type": "code",
   "execution_count": 5,
   "id": "0891df8f",
   "metadata": {},
   "outputs": [
    {
     "data": {
      "text/html": [
       "<div>\n",
       "<style scoped>\n",
       "    .dataframe tbody tr th:only-of-type {\n",
       "        vertical-align: middle;\n",
       "    }\n",
       "\n",
       "    .dataframe tbody tr th {\n",
       "        vertical-align: top;\n",
       "    }\n",
       "\n",
       "    .dataframe thead th {\n",
       "        text-align: right;\n",
       "    }\n",
       "</style>\n",
       "<table border=\"1\" class=\"dataframe\">\n",
       "  <thead>\n",
       "    <tr style=\"text-align: right;\">\n",
       "      <th></th>\n",
       "      <th>User ID</th>\n",
       "      <th>Age</th>\n",
       "      <th>EstimatedSalary</th>\n",
       "      <th>Purchased</th>\n",
       "    </tr>\n",
       "  </thead>\n",
       "  <tbody>\n",
       "    <tr>\n",
       "      <th>count</th>\n",
       "      <td>4.000000e+02</td>\n",
       "      <td>400.000000</td>\n",
       "      <td>400.000000</td>\n",
       "      <td>400.000000</td>\n",
       "    </tr>\n",
       "    <tr>\n",
       "      <th>mean</th>\n",
       "      <td>1.569154e+07</td>\n",
       "      <td>37.655000</td>\n",
       "      <td>69742.500000</td>\n",
       "      <td>0.357500</td>\n",
       "    </tr>\n",
       "    <tr>\n",
       "      <th>std</th>\n",
       "      <td>7.165832e+04</td>\n",
       "      <td>10.482877</td>\n",
       "      <td>34096.960282</td>\n",
       "      <td>0.479864</td>\n",
       "    </tr>\n",
       "    <tr>\n",
       "      <th>min</th>\n",
       "      <td>1.556669e+07</td>\n",
       "      <td>18.000000</td>\n",
       "      <td>15000.000000</td>\n",
       "      <td>0.000000</td>\n",
       "    </tr>\n",
       "    <tr>\n",
       "      <th>25%</th>\n",
       "      <td>1.562676e+07</td>\n",
       "      <td>29.750000</td>\n",
       "      <td>43000.000000</td>\n",
       "      <td>0.000000</td>\n",
       "    </tr>\n",
       "    <tr>\n",
       "      <th>50%</th>\n",
       "      <td>1.569434e+07</td>\n",
       "      <td>37.000000</td>\n",
       "      <td>70000.000000</td>\n",
       "      <td>0.000000</td>\n",
       "    </tr>\n",
       "    <tr>\n",
       "      <th>75%</th>\n",
       "      <td>1.575036e+07</td>\n",
       "      <td>46.000000</td>\n",
       "      <td>88000.000000</td>\n",
       "      <td>1.000000</td>\n",
       "    </tr>\n",
       "    <tr>\n",
       "      <th>max</th>\n",
       "      <td>1.581524e+07</td>\n",
       "      <td>60.000000</td>\n",
       "      <td>150000.000000</td>\n",
       "      <td>1.000000</td>\n",
       "    </tr>\n",
       "  </tbody>\n",
       "</table>\n",
       "</div>"
      ],
      "text/plain": [
       "            User ID         Age  EstimatedSalary   Purchased\n",
       "count  4.000000e+02  400.000000       400.000000  400.000000\n",
       "mean   1.569154e+07   37.655000     69742.500000    0.357500\n",
       "std    7.165832e+04   10.482877     34096.960282    0.479864\n",
       "min    1.556669e+07   18.000000     15000.000000    0.000000\n",
       "25%    1.562676e+07   29.750000     43000.000000    0.000000\n",
       "50%    1.569434e+07   37.000000     70000.000000    0.000000\n",
       "75%    1.575036e+07   46.000000     88000.000000    1.000000\n",
       "max    1.581524e+07   60.000000    150000.000000    1.000000"
      ]
     },
     "execution_count": 5,
     "metadata": {},
     "output_type": "execute_result"
    }
   ],
   "source": [
    "df_ads.describe()"
   ]
  },
  {
   "cell_type": "markdown",
   "id": "c7849132",
   "metadata": {},
   "source": [
    "We can find that there are no missing values or outliers in the data."
   ]
  },
  {
   "cell_type": "code",
   "execution_count": 6,
   "id": "fb67f825",
   "metadata": {},
   "outputs": [],
   "source": [
    "#Checking correlation between the features"
   ]
  },
  {
   "cell_type": "code",
   "execution_count": 7,
   "id": "6576900c",
   "metadata": {},
   "outputs": [],
   "source": [
    "vcorr=df_ads.corr()"
   ]
  },
  {
   "cell_type": "code",
   "execution_count": 11,
   "id": "53bb899d",
   "metadata": {},
   "outputs": [
    {
     "data": {
      "image/png": "[encoded data removed]",
      "text/plain": [
       "<Figure size 432x288 with 2 Axes>"
      ]
     },
     "metadata": {
      "needs_background": "light"
     },
     "output_type": "display_data"
    }
   ],
   "source": [
    "sns.heatmap(vcorr[(vcorr>0.80) | (vcorr<-0.80)],annot=True)\n",
    "plt.show()"
   ]
  },
  {
   "cell_type": "markdown",
   "id": "bf49593d",
   "metadata": {},
   "source": [
    "We can find that there is no strong correlation among the features."
   ]
  },
  {
   "cell_type": "code",
   "execution_count": 12,
   "id": "ebb46f2b",
   "metadata": {},
   "outputs": [],
   "source": [
    "#visualisation"
   ]
  },
  {
   "cell_type": "code",
   "execution_count": 13,
   "id": "94354ad3",
   "metadata": {},
   "outputs": [],
   "source": [
    "#relationship between gender and purchase"
   ]
  },
  {
   "cell_type": "code",
   "execution_count": 20,
   "id": "86bc7985",
   "metadata": {},
   "outputs": [
    {
     "data": {
      "image/png": "[encoded data removed]",
      "text/plain": [
       "<Figure size 432x288 with 1 Axes>"
      ]
     },
     "metadata": {
      "needs_background": "light"
     },
     "output_type": "display_data"
    }
   ],
   "source": [
    "sns.barplot(x='Gender',y='Purchased',data=df_ads)\n",
    "plt.show()"
   ]
  },
  {
   "cell_type": "markdown",
   "id": "b3ffd60f",
   "metadata": {},
   "source": [
    "We can find that female category has more been influenced by  social network ads resulting in higher purchase."
   ]
  },
  {
   "cell_type": "code",
   "execution_count": 21,
   "id": "8242638b",
   "metadata": {},
   "outputs": [],
   "source": [
    "#relationship between gender and purchased based on the salary"
   ]
  },
  {
   "cell_type": "code",
   "execution_count": 30,
   "id": "b68b5995",
   "metadata": {},
   "outputs": [
    {
     "data": {
      "image/png": "[encoded data removed]",
      "text/plain": [
       "<Figure size 432x288 with 1 Axes>"
      ]
     },
     "metadata": {
      "needs_background": "light"
     },
     "output_type": "display_data"
    }
   ],
   "source": [
    "sns.barplot(x='Purchased',y='EstimatedSalary',data=df_ads)\n",
    "plt.show()"
   ]
  },
  {
   "cell_type": "markdown",
   "id": "2ac484a3",
   "metadata": {},
   "source": [
    "It shows that the people who made the final purchase had comparatively more salary than the ones who didnot purchase."
   ]
  },
  {
   "cell_type": "code",
   "execution_count": 36,
   "id": "79b171c1",
   "metadata": {},
   "outputs": [],
   "source": [
    "#dropping the userid column since we don't require it for model building"
   ]
  },
  {
   "cell_type": "code",
   "execution_count": 37,
   "id": "fdbd1cd2",
   "metadata": {},
   "outputs": [],
   "source": [
    "df_ads=df_ads.drop('User ID',axis=1)"
   ]
  },
  {
   "cell_type": "markdown",
   "id": "c9a58945",
   "metadata": {},
   "source": [
    "## 4.Dummy Encoding"
   ]
  },
  {
   "cell_type": "code",
   "execution_count": 38,
   "id": "450e4e39",
   "metadata": {},
   "outputs": [],
   "source": [
    "#dummy_encpding the categorical variables"
   ]
  },
  {
   "cell_type": "code",
   "execution_count": 39,
   "id": "da80fc4c",
   "metadata": {},
   "outputs": [],
   "source": [
    "df_ads_dummy=pd.get_dummies(df_ads,drop_first=True)"
   ]
  },
  {
   "cell_type": "code",
   "execution_count": 40,
   "id": "5f900c3e",
   "metadata": {},
   "outputs": [
    {
     "data": {
      "text/plain": [
       "(400, 4)"
      ]
     },
     "execution_count": 40,
     "metadata": {},
     "output_type": "execute_result"
    }
   ],
   "source": [
    "df_ads_dummy.shape"
   ]
  },
  {
   "cell_type": "code",
   "execution_count": 41,
   "id": "b23ad579",
   "metadata": {},
   "outputs": [
    {
     "data": {
      "text/html": [
       "<div>\n",
       "<style scoped>\n",
       "    .dataframe tbody tr th:only-of-type {\n",
       "        vertical-align: middle;\n",
       "    }\n",
       "\n",
       "    .dataframe tbody tr th {\n",
       "        vertical-align: top;\n",
       "    }\n",
       "\n",
       "    .dataframe thead th {\n",
       "        text-align: right;\n",
       "    }\n",
       "</style>\n",
       "<table border=\"1\" class=\"dataframe\">\n",
       "  <thead>\n",
       "    <tr style=\"text-align: right;\">\n",
       "      <th></th>\n",
       "      <th>Age</th>\n",
       "      <th>EstimatedSalary</th>\n",
       "      <th>Purchased</th>\n",
       "      <th>Gender_Male</th>\n",
       "    </tr>\n",
       "  </thead>\n",
       "  <tbody>\n",
       "    <tr>\n",
       "      <th>0</th>\n",
       "      <td>19</td>\n",
       "      <td>19000</td>\n",
       "      <td>0</td>\n",
       "      <td>1</td>\n",
       "    </tr>\n",
       "    <tr>\n",
       "      <th>1</th>\n",
       "      <td>35</td>\n",
       "      <td>20000</td>\n",
       "      <td>0</td>\n",
       "      <td>1</td>\n",
       "    </tr>\n",
       "    <tr>\n",
       "      <th>2</th>\n",
       "      <td>26</td>\n",
       "      <td>43000</td>\n",
       "      <td>0</td>\n",
       "      <td>0</td>\n",
       "    </tr>\n",
       "    <tr>\n",
       "      <th>3</th>\n",
       "      <td>27</td>\n",
       "      <td>57000</td>\n",
       "      <td>0</td>\n",
       "      <td>0</td>\n",
       "    </tr>\n",
       "    <tr>\n",
       "      <th>4</th>\n",
       "      <td>19</td>\n",
       "      <td>76000</td>\n",
       "      <td>0</td>\n",
       "      <td>1</td>\n",
       "    </tr>\n",
       "  </tbody>\n",
       "</table>\n",
       "</div>"
      ],
      "text/plain": [
       "   Age  EstimatedSalary  Purchased  Gender_Male\n",
       "0   19            19000          0            1\n",
       "1   35            20000          0            1\n",
       "2   26            43000          0            0\n",
       "3   27            57000          0            0\n",
       "4   19            76000          0            1"
      ]
     },
     "execution_count": 41,
     "metadata": {},
     "output_type": "execute_result"
    }
   ],
   "source": [
    "df_ads_dummy.head()"
   ]
  },
  {
   "cell_type": "markdown",
   "id": "d539f70e",
   "metadata": {},
   "source": [
    "## 5.Separating the independent and dependent variables"
   ]
  },
  {
   "cell_type": "code",
   "execution_count": 43,
   "id": "26c0a658",
   "metadata": {},
   "outputs": [],
   "source": [
    "X=df_ads_dummy.drop('Purchased',axis=1)\n",
    "y=df_ads_dummy['Purchased']"
   ]
  },
  {
   "cell_type": "markdown",
   "id": "6aedc096",
   "metadata": {},
   "source": [
    "## 6.Separating the data into train and test set"
   ]
  },
  {
   "cell_type": "code",
   "execution_count": 47,
   "id": "1bd2176c",
   "metadata": {},
   "outputs": [],
   "source": [
    "X_train,X_test,y_train,y_test=train_test_split(X,y,test_size=0.20,random_state=1)"
   ]
  },
  {
   "cell_type": "code",
   "execution_count": 48,
   "id": "79de8df7",
   "metadata": {},
   "outputs": [
    {
     "data": {
      "text/plain": [
       "((320, 3), (80, 3), (320,), (80,))"
      ]
     },
     "execution_count": 48,
     "metadata": {},
     "output_type": "execute_result"
    }
   ],
   "source": [
    "X_train.shape,X_test.shape,y_train.shape,y_test.shape"
   ]
  },
  {
   "cell_type": "markdown",
   "id": "94c07091",
   "metadata": {},
   "source": [
    "## 7.Scaling the data"
   ]
  },
  {
   "cell_type": "code",
   "execution_count": 52,
   "id": "6daf1945",
   "metadata": {},
   "outputs": [],
   "source": [
    "sc=StandardScaler()\n",
    "\n",
    "X_train_scaled=sc.fit_transform(X_train)\n",
    "X_test_scaled=sc.transform(X_test)"
   ]
  },
  {
   "cell_type": "markdown",
   "id": "c45ce624",
   "metadata": {},
   "source": [
    "## 8.Building the model"
   ]
  },
  {
   "cell_type": "markdown",
   "id": "fb74f685",
   "metadata": {},
   "source": [
    "### 1.Logistic Regression"
   ]
  },
  {
   "cell_type": "code",
   "execution_count": 54,
   "id": "825c9e1e",
   "metadata": {},
   "outputs": [],
   "source": [
    "lr=LogisticRegression()"
   ]
  },
  {
   "cell_type": "code",
   "execution_count": 55,
   "id": "b1fe9322",
   "metadata": {},
   "outputs": [
    {
     "data": {
      "text/html": [
       "<style>#sk-container-id-1 {color: black;background-color: white;}#sk-container-id-1 pre{padding: 0;}#sk-container-id-1 div.sk-toggleable {background-color: white;}#sk-container-id-1 label.sk-toggleable__label {cursor: pointer;display: block;width: 100%;margin-bottom: 0;padding: 0.3em;box-sizing: border-box;text-align: center;}#sk-container-id-1 label.sk-toggleable__label-arrow:before {content: \"▸\";float: left;margin-right: 0.25em;color: #696969;}#sk-container-id-1 label.sk-toggleable__label-arrow:hover:before {color: black;}#sk-container-id-1 div.sk-estimator:hover label.sk-toggleable__label-arrow:before {color: black;}#sk-container-id-1 div.sk-toggleable__content {max-height: 0;max-width: 0;overflow: hidden;text-align: left;background-color: #f0f8ff;}#sk-container-id-1 div.sk-toggleable__content pre {margin: 0.2em;color: black;border-radius: 0.25em;background-color: #f0f8ff;}#sk-container-id-1 input.sk-toggleable__control:checked~div.sk-toggleable__content {max-height: 200px;max-width: 100%;overflow: auto;}#sk-container-id-1 input.sk-toggleable__control:checked~label.sk-toggleable__label-arrow:before {content: \"▾\";}#sk-container-id-1 div.sk-estimator input.sk-toggleable__control:checked~label.sk-toggleable__label {background-color: #d4ebff;}#sk-container-id-1 div.sk-label input.sk-toggleable__control:checked~label.sk-toggleable__label {background-color: #d4ebff;}#sk-container-id-1 input.sk-hidden--visually {border: 0;clip: rect(1px 1px 1px 1px);clip: rect(1px, 1px, 1px, 1px);height: 1px;margin: -1px;overflow: hidden;padding: 0;position: absolute;width: 1px;}#sk-container-id-1 div.sk-estimator {font-family: monospace;background-color: #f0f8ff;border: 1px dotted black;border-radius: 0.25em;box-sizing: border-box;margin-bottom: 0.5em;}#sk-container-id-1 div.sk-estimator:hover {background-color: #d4ebff;}#sk-container-id-1 div.sk-parallel-item::after {content: \"\";width: 100%;border-bottom: 1px solid gray;flex-grow: 1;}#sk-container-id-1 div.sk-label:hover label.sk-toggleable__label {background-color: #d4ebff;}#sk-container-id-1 div.sk-serial::before {content: \"\";position: absolute;border-left: 1px solid gray;box-sizing: border-box;top: 0;bottom: 0;left: 50%;z-index: 0;}#sk-container-id-1 div.sk-serial {display: flex;flex-direction: column;align-items: center;background-color: white;padding-right: 0.2em;padding-left: 0.2em;position: relative;}#sk-container-id-1 div.sk-item {position: relative;z-index: 1;}#sk-container-id-1 div.sk-parallel {display: flex;align-items: stretch;justify-content: center;background-color: white;position: relative;}#sk-container-id-1 div.sk-item::before, #sk-container-id-1 div.sk-parallel-item::before {content: \"\";position: absolute;border-left: 1px solid gray;box-sizing: border-box;top: 0;bottom: 0;left: 50%;z-index: -1;}#sk-container-id-1 div.sk-parallel-item {display: flex;flex-direction: column;z-index: 1;position: relative;background-color: white;}#sk-container-id-1 div.sk-parallel-item:first-child::after {align-self: flex-end;width: 50%;}#sk-container-id-1 div.sk-parallel-item:last-child::after {align-self: flex-start;width: 50%;}#sk-container-id-1 div.sk-parallel-item:only-child::after {width: 0;}#sk-container-id-1 div.sk-dashed-wrapped {border: 1px dashed gray;margin: 0 0.4em 0.5em 0.4em;box-sizing: border-box;padding-bottom: 0.4em;background-color: white;}#sk-container-id-1 div.sk-label label {font-family: monospace;font-weight: bold;display: inline-block;line-height: 1.2em;}#sk-container-id-1 div.sk-label-container {text-align: center;}#sk-container-id-1 div.sk-container {/* jupyter's `normalize.less` sets `[hidden] { display: none; }` but bootstrap.min.css set `[hidden] { display: none !important; }` so we also need the `!important` here to be able to override the default hidden behavior on the sphinx rendered scikit-learn.org. See: https://github.com/scikit-learn/scikit-learn/issues/21755 */display: inline-block !important;position: relative;}#sk-container-id-1 div.sk-text-repr-fallback {display: none;}</style><div id=\"sk-container-id-1\" class=\"sk-top-container\"><div class=\"sk-text-repr-fallback\"><pre>LogisticRegression()</pre><b>In a Jupyter environment, please rerun this cell to show the HTML representation or trust the notebook. <br />On GitHub, the HTML representation is unable to render, please try loading this page with nbviewer.org.</b></div><div class=\"sk-container\" hidden><div class=\"sk-item\"><div class=\"sk-estimator sk-toggleable\"><input class=\"sk-toggleable__control sk-hidden--visually\" id=\"sk-estimator-id-1\" type=\"checkbox\" checked><label for=\"sk-estimator-id-1\" class=\"sk-toggleable__label sk-toggleable__label-arrow\">LogisticRegression</label><div class=\"sk-toggleable__content\"><pre>LogisticRegression()</pre></div></div></div></div></div>"
      ],
      "text/plain": [
       "LogisticRegression()"
      ]
     },
     "execution_count": 55,
     "metadata": {},
     "output_type": "execute_result"
    }
   ],
   "source": [
    "lr.fit(X_train_scaled,y_train)"
   ]
  },
  {
   "cell_type": "code",
   "execution_count": 56,
   "id": "3241576b",
   "metadata": {},
   "outputs": [],
   "source": [
    "pred_result=lr.predict(X_test_scaled)"
   ]
  },
  {
   "cell_type": "code",
   "execution_count": 58,
   "id": "6d30d1e4",
   "metadata": {},
   "outputs": [
    {
     "name": "stdout",
     "output_type": "stream",
     "text": [
      "[[40  8]\n",
      " [ 6 26]]\n"
     ]
    }
   ],
   "source": [
    "print(confusion_matrix(y_test,pred_result))"
   ]
  },
  {
   "cell_type": "code",
   "execution_count": 59,
   "id": "1e870851",
   "metadata": {},
   "outputs": [
    {
     "name": "stdout",
     "output_type": "stream",
     "text": [
      "              precision    recall  f1-score   support\n",
      "\n",
      "           0       0.87      0.83      0.85        48\n",
      "           1       0.76      0.81      0.79        32\n",
      "\n",
      "    accuracy                           0.82        80\n",
      "   macro avg       0.82      0.82      0.82        80\n",
      "weighted avg       0.83      0.82      0.83        80\n",
      "\n"
     ]
    }
   ],
   "source": [
    "print(classification_report(y_test,pred_result))"
   ]
  },
  {
   "cell_type": "code",
   "execution_count": 60,
   "id": "49e51b1b",
   "metadata": {},
   "outputs": [],
   "source": [
    "fpr,tpr,thresholds=roc_curve(y_test,pred_result)"
   ]
  },
  {
   "cell_type": "code",
   "execution_count": 69,
   "id": "6433e578",
   "metadata": {},
   "outputs": [
    {
     "data": {
      "text/html": [
       "<div>\n",
       "<style scoped>\n",
       "    .dataframe tbody tr th:only-of-type {\n",
       "        vertical-align: middle;\n",
       "    }\n",
       "\n",
       "    .dataframe tbody tr th {\n",
       "        vertical-align: top;\n",
       "    }\n",
       "\n",
       "    .dataframe thead th {\n",
       "        text-align: right;\n",
       "    }\n",
       "</style>\n",
       "<table border=\"1\" class=\"dataframe\">\n",
       "  <thead>\n",
       "    <tr style=\"text-align: right;\">\n",
       "      <th></th>\n",
       "      <th>Model</th>\n",
       "      <th>Accuracy</th>\n",
       "      <th>Precision</th>\n",
       "      <th>Recall</th>\n",
       "      <th>AUC</th>\n",
       "    </tr>\n",
       "  </thead>\n",
       "  <tbody>\n",
       "    <tr>\n",
       "      <th>0</th>\n",
       "      <td>LR</td>\n",
       "      <td>0.825</td>\n",
       "      <td>0.764706</td>\n",
       "      <td>0.8125</td>\n",
       "      <td>0.822917</td>\n",
       "    </tr>\n",
       "  </tbody>\n",
       "</table>\n",
       "</div>"
      ],
      "text/plain": [
       "  Model Accuracy Precision  Recall       AUC\n",
       "0    LR    0.825  0.764706  0.8125  0.822917"
      ]
     },
     "execution_count": 69,
     "metadata": {},
     "output_type": "execute_result"
    }
   ],
   "source": [
    "#Tabulating the results\n",
    "\n",
    "cols=['Model','Accuracy','Precision','Recall','AUC']\n",
    "\n",
    "result=pd.DataFrame(columns=cols)\n",
    "\n",
    "lr_metrics=pd.Series({'Model':'LR',\n",
    "                     'Accuracy':accuracy_score(y_test,pred_result),\n",
    "                     'Precision':precision_score(y_test,pred_result),\n",
    "                     'Recall':recall_score(y_test,pred_result),\n",
    "                     'AUC':auc(fpr,tpr)})\n",
    "\n",
    "result=result.append(lr_metrics,ignore_index=True)\n",
    "\n",
    "result"
   ]
  },
  {
   "cell_type": "markdown",
   "id": "972846ce",
   "metadata": {},
   "source": [
    "### 2.Decision Tree"
   ]
  },
  {
   "cell_type": "code",
   "execution_count": 70,
   "id": "f24c9c04",
   "metadata": {},
   "outputs": [],
   "source": [
    "dt=DecisionTreeClassifier()"
   ]
  },
  {
   "cell_type": "code",
   "execution_count": 71,
   "id": "5ce0cf46",
   "metadata": {},
   "outputs": [
    {
     "data": {
      "text/html": [
       "<style>#sk-container-id-2 {color: black;background-color: white;}#sk-container-id-2 pre{padding: 0;}#sk-container-id-2 div.sk-toggleable {background-color: white;}#sk-container-id-2 label.sk-toggleable__label {cursor: pointer;display: block;width: 100%;margin-bottom: 0;padding: 0.3em;box-sizing: border-box;text-align: center;}#sk-container-id-2 label.sk-toggleable__label-arrow:before {content: \"▸\";float: left;margin-right: 0.25em;color: #696969;}#sk-container-id-2 label.sk-toggleable__label-arrow:hover:before {color: black;}#sk-container-id-2 div.sk-estimator:hover label.sk-toggleable__label-arrow:before {color: black;}#sk-container-id-2 div.sk-toggleable__content {max-height: 0;max-width: 0;overflow: hidden;text-align: left;background-color: #f0f8ff;}#sk-container-id-2 div.sk-toggleable__content pre {margin: 0.2em;color: black;border-radius: 0.25em;background-color: #f0f8ff;}#sk-container-id-2 input.sk-toggleable__control:checked~div.sk-toggleable__content {max-height: 200px;max-width: 100%;overflow: auto;}#sk-container-id-2 input.sk-toggleable__control:checked~label.sk-toggleable__label-arrow:before {content: \"▾\";}#sk-container-id-2 div.sk-estimator input.sk-toggleable__control:checked~label.sk-toggleable__label {background-color: #d4ebff;}#sk-container-id-2 div.sk-label input.sk-toggleable__control:checked~label.sk-toggleable__label {background-color: #d4ebff;}#sk-container-id-2 input.sk-hidden--visually {border: 0;clip: rect(1px 1px 1px 1px);clip: rect(1px, 1px, 1px, 1px);height: 1px;margin: -1px;overflow: hidden;padding: 0;position: absolute;width: 1px;}#sk-container-id-2 div.sk-estimator {font-family: monospace;background-color: #f0f8ff;border: 1px dotted black;border-radius: 0.25em;box-sizing: border-box;margin-bottom: 0.5em;}#sk-container-id-2 div.sk-estimator:hover {background-color: #d4ebff;}#sk-container-id-2 div.sk-parallel-item::after {content: \"\";width: 100%;border-bottom: 1px solid gray;flex-grow: 1;}#sk-container-id-2 div.sk-label:hover label.sk-toggleable__label {background-color: #d4ebff;}#sk-container-id-2 div.sk-serial::before {content: \"\";position: absolute;border-left: 1px solid gray;box-sizing: border-box;top: 0;bottom: 0;left: 50%;z-index: 0;}#sk-container-id-2 div.sk-serial {display: flex;flex-direction: column;align-items: center;background-color: white;padding-right: 0.2em;padding-left: 0.2em;position: relative;}#sk-container-id-2 div.sk-item {position: relative;z-index: 1;}#sk-container-id-2 div.sk-parallel {display: flex;align-items: stretch;justify-content: center;background-color: white;position: relative;}#sk-container-id-2 div.sk-item::before, #sk-container-id-2 div.sk-parallel-item::before {content: \"\";position: absolute;border-left: 1px solid gray;box-sizing: border-box;top: 0;bottom: 0;left: 50%;z-index: -1;}#sk-container-id-2 div.sk-parallel-item {display: flex;flex-direction: column;z-index: 1;position: relative;background-color: white;}#sk-container-id-2 div.sk-parallel-item:first-child::after {align-self: flex-end;width: 50%;}#sk-container-id-2 div.sk-parallel-item:last-child::after {align-self: flex-start;width: 50%;}#sk-container-id-2 div.sk-parallel-item:only-child::after {width: 0;}#sk-container-id-2 div.sk-dashed-wrapped {border: 1px dashed gray;margin: 0 0.4em 0.5em 0.4em;box-sizing: border-box;padding-bottom: 0.4em;background-color: white;}#sk-container-id-2 div.sk-label label {font-family: monospace;font-weight: bold;display: inline-block;line-height: 1.2em;}#sk-container-id-2 div.sk-label-container {text-align: center;}#sk-container-id-2 div.sk-container {/* jupyter's `normalize.less` sets `[hidden] { display: none; }` but bootstrap.min.css set `[hidden] { display: none !important; }` so we also need the `!important` here to be able to override the default hidden behavior on the sphinx rendered scikit-learn.org. See: https://github.com/scikit-learn/scikit-learn/issues/21755 */display: inline-block !important;position: relative;}#sk-container-id-2 div.sk-text-repr-fallback {display: none;}</style><div id=\"sk-container-id-2\" class=\"sk-top-container\"><div class=\"sk-text-repr-fallback\"><pre>DecisionTreeClassifier()</pre><b>In a Jupyter environment, please rerun this cell to show the HTML representation or trust the notebook. <br />On GitHub, the HTML representation is unable to render, please try loading this page with nbviewer.org.</b></div><div class=\"sk-container\" hidden><div class=\"sk-item\"><div class=\"sk-estimator sk-toggleable\"><input class=\"sk-toggleable__control sk-hidden--visually\" id=\"sk-estimator-id-2\" type=\"checkbox\" checked><label for=\"sk-estimator-id-2\" class=\"sk-toggleable__label sk-toggleable__label-arrow\">DecisionTreeClassifier</label><div class=\"sk-toggleable__content\"><pre>DecisionTreeClassifier()</pre></div></div></div></div></div>"
      ],
      "text/plain": [
       "DecisionTreeClassifier()"
      ]
     },
     "execution_count": 71,
     "metadata": {},
     "output_type": "execute_result"
    }
   ],
   "source": [
    "dt.fit(X_train_scaled,y_train)"
   ]
  },
  {
   "cell_type": "code",
   "execution_count": 73,
   "id": "1eb9039f",
   "metadata": {},
   "outputs": [],
   "source": [
    "pred_result=dt.predict(X_test_scaled)"
   ]
  },
  {
   "cell_type": "code",
   "execution_count": 74,
   "id": "1b6ded47",
   "metadata": {},
   "outputs": [
    {
     "name": "stdout",
     "output_type": "stream",
     "text": [
      "[[40  8]\n",
      " [ 9 23]]\n"
     ]
    }
   ],
   "source": [
    "print(confusion_matrix(y_test,pred_result))"
   ]
  },
  {
   "cell_type": "code",
   "execution_count": 75,
   "id": "299add8e",
   "metadata": {},
   "outputs": [
    {
     "name": "stdout",
     "output_type": "stream",
     "text": [
      "              precision    recall  f1-score   support\n",
      "\n",
      "           0       0.82      0.83      0.82        48\n",
      "           1       0.74      0.72      0.73        32\n",
      "\n",
      "    accuracy                           0.79        80\n",
      "   macro avg       0.78      0.78      0.78        80\n",
      "weighted avg       0.79      0.79      0.79        80\n",
      "\n"
     ]
    }
   ],
   "source": [
    "print(classification_report(y_test,pred_result))"
   ]
  },
  {
   "cell_type": "code",
   "execution_count": 76,
   "id": "fa70c8b3",
   "metadata": {},
   "outputs": [],
   "source": [
    "fpr,tpr,thresholds=roc_curve(y_test,pred_result)"
   ]
  },
  {
   "cell_type": "code",
   "execution_count": 77,
   "id": "bf6e15a8",
   "metadata": {},
   "outputs": [
    {
     "data": {
      "text/html": [
       "<div>\n",
       "<style scoped>\n",
       "    .dataframe tbody tr th:only-of-type {\n",
       "        vertical-align: middle;\n",
       "    }\n",
       "\n",
       "    .dataframe tbody tr th {\n",
       "        vertical-align: top;\n",
       "    }\n",
       "\n",
       "    .dataframe thead th {\n",
       "        text-align: right;\n",
       "    }\n",
       "</style>\n",
       "<table border=\"1\" class=\"dataframe\">\n",
       "  <thead>\n",
       "    <tr style=\"text-align: right;\">\n",
       "      <th></th>\n",
       "      <th>Model</th>\n",
       "      <th>Accuracy</th>\n",
       "      <th>Precision</th>\n",
       "      <th>Recall</th>\n",
       "      <th>AUC</th>\n",
       "    </tr>\n",
       "  </thead>\n",
       "  <tbody>\n",
       "    <tr>\n",
       "      <th>0</th>\n",
       "      <td>LR</td>\n",
       "      <td>0.825</td>\n",
       "      <td>0.764706</td>\n",
       "      <td>0.8125</td>\n",
       "      <td>0.822917</td>\n",
       "    </tr>\n",
       "    <tr>\n",
       "      <th>1</th>\n",
       "      <td>DT</td>\n",
       "      <td>0.7875</td>\n",
       "      <td>0.741935</td>\n",
       "      <td>0.71875</td>\n",
       "      <td>0.776042</td>\n",
       "    </tr>\n",
       "  </tbody>\n",
       "</table>\n",
       "</div>"
      ],
      "text/plain": [
       "  Model Accuracy Precision   Recall       AUC\n",
       "0    LR    0.825  0.764706   0.8125  0.822917\n",
       "1    DT   0.7875  0.741935  0.71875  0.776042"
      ]
     },
     "execution_count": 77,
     "metadata": {},
     "output_type": "execute_result"
    }
   ],
   "source": [
    "#Tabulating the results\n",
    "\n",
    "dt_metrics=pd.Series({'Model':'DT',\n",
    "                     'Accuracy':accuracy_score(y_test,pred_result),\n",
    "                     'Precision':precision_score(y_test,pred_result),\n",
    "                     'Recall':recall_score(y_test,pred_result),\n",
    "                     'AUC':auc(fpr,tpr)})\n",
    "\n",
    "result=result.append(dt_metrics,ignore_index=True)\n",
    "\n",
    "result"
   ]
  },
  {
   "cell_type": "markdown",
   "id": "c4379269",
   "metadata": {},
   "source": [
    "### 3.Random Forest"
   ]
  },
  {
   "cell_type": "code",
   "execution_count": 78,
   "id": "b87ebe8d",
   "metadata": {},
   "outputs": [],
   "source": [
    "rf=RandomForestClassifier()"
   ]
  },
  {
   "cell_type": "code",
   "execution_count": 79,
   "id": "cdbf367c",
   "metadata": {},
   "outputs": [
    {
     "data": {
      "text/html": [
       "<style>#sk-container-id-3 {color: black;background-color: white;}#sk-container-id-3 pre{padding: 0;}#sk-container-id-3 div.sk-toggleable {background-color: white;}#sk-container-id-3 label.sk-toggleable__label {cursor: pointer;display: block;width: 100%;margin-bottom: 0;padding: 0.3em;box-sizing: border-box;text-align: center;}#sk-container-id-3 label.sk-toggleable__label-arrow:before {content: \"▸\";float: left;margin-right: 0.25em;color: #696969;}#sk-container-id-3 label.sk-toggleable__label-arrow:hover:before {color: black;}#sk-container-id-3 div.sk-estimator:hover label.sk-toggleable__label-arrow:before {color: black;}#sk-container-id-3 div.sk-toggleable__content {max-height: 0;max-width: 0;overflow: hidden;text-align: left;background-color: #f0f8ff;}#sk-container-id-3 div.sk-toggleable__content pre {margin: 0.2em;color: black;border-radius: 0.25em;background-color: #f0f8ff;}#sk-container-id-3 input.sk-toggleable__control:checked~div.sk-toggleable__content {max-height: 200px;max-width: 100%;overflow: auto;}#sk-container-id-3 input.sk-toggleable__control:checked~label.sk-toggleable__label-arrow:before {content: \"▾\";}#sk-container-id-3 div.sk-estimator input.sk-toggleable__control:checked~label.sk-toggleable__label {background-color: #d4ebff;}#sk-container-id-3 div.sk-label input.sk-toggleable__control:checked~label.sk-toggleable__label {background-color: #d4ebff;}#sk-container-id-3 input.sk-hidden--visually {border: 0;clip: rect(1px 1px 1px 1px);clip: rect(1px, 1px, 1px, 1px);height: 1px;margin: -1px;overflow: hidden;padding: 0;position: absolute;width: 1px;}#sk-container-id-3 div.sk-estimator {font-family: monospace;background-color: #f0f8ff;border: 1px dotted black;border-radius: 0.25em;box-sizing: border-box;margin-bottom: 0.5em;}#sk-container-id-3 div.sk-estimator:hover {background-color: #d4ebff;}#sk-container-id-3 div.sk-parallel-item::after {content: \"\";width: 100%;border-bottom: 1px solid gray;flex-grow: 1;}#sk-container-id-3 div.sk-label:hover label.sk-toggleable__label {background-color: #d4ebff;}#sk-container-id-3 div.sk-serial::before {content: \"\";position: absolute;border-left: 1px solid gray;box-sizing: border-box;top: 0;bottom: 0;left: 50%;z-index: 0;}#sk-container-id-3 div.sk-serial {display: flex;flex-direction: column;align-items: center;background-color: white;padding-right: 0.2em;padding-left: 0.2em;position: relative;}#sk-container-id-3 div.sk-item {position: relative;z-index: 1;}#sk-container-id-3 div.sk-parallel {display: flex;align-items: stretch;justify-content: center;background-color: white;position: relative;}#sk-container-id-3 div.sk-item::before, #sk-container-id-3 div.sk-parallel-item::before {content: \"\";position: absolute;border-left: 1px solid gray;box-sizing: border-box;top: 0;bottom: 0;left: 50%;z-index: -1;}#sk-container-id-3 div.sk-parallel-item {display: flex;flex-direction: column;z-index: 1;position: relative;background-color: white;}#sk-container-id-3 div.sk-parallel-item:first-child::after {align-self: flex-end;width: 50%;}#sk-container-id-3 div.sk-parallel-item:last-child::after {align-self: flex-start;width: 50%;}#sk-container-id-3 div.sk-parallel-item:only-child::after {width: 0;}#sk-container-id-3 div.sk-dashed-wrapped {border: 1px dashed gray;margin: 0 0.4em 0.5em 0.4em;box-sizing: border-box;padding-bottom: 0.4em;background-color: white;}#sk-container-id-3 div.sk-label label {font-family: monospace;font-weight: bold;display: inline-block;line-height: 1.2em;}#sk-container-id-3 div.sk-label-container {text-align: center;}#sk-container-id-3 div.sk-container {/* jupyter's `normalize.less` sets `[hidden] { display: none; }` but bootstrap.min.css set `[hidden] { display: none !important; }` so we also need the `!important` here to be able to override the default hidden behavior on the sphinx rendered scikit-learn.org. See: https://github.com/scikit-learn/scikit-learn/issues/21755 */display: inline-block !important;position: relative;}#sk-container-id-3 div.sk-text-repr-fallback {display: none;}</style><div id=\"sk-container-id-3\" class=\"sk-top-container\"><div class=\"sk-text-repr-fallback\"><pre>RandomForestClassifier()</pre><b>In a Jupyter environment, please rerun this cell to show the HTML representation or trust the notebook. <br />On GitHub, the HTML representation is unable to render, please try loading this page with nbviewer.org.</b></div><div class=\"sk-container\" hidden><div class=\"sk-item\"><div class=\"sk-estimator sk-toggleable\"><input class=\"sk-toggleable__control sk-hidden--visually\" id=\"sk-estimator-id-3\" type=\"checkbox\" checked><label for=\"sk-estimator-id-3\" class=\"sk-toggleable__label sk-toggleable__label-arrow\">RandomForestClassifier</label><div class=\"sk-toggleable__content\"><pre>RandomForestClassifier()</pre></div></div></div></div></div>"
      ],
      "text/plain": [
       "RandomForestClassifier()"
      ]
     },
     "execution_count": 79,
     "metadata": {},
     "output_type": "execute_result"
    }
   ],
   "source": [
    "rf.fit(X_train_scaled,y_train)"
   ]
  },
  {
   "cell_type": "code",
   "execution_count": 81,
   "id": "3f2d0740",
   "metadata": {},
   "outputs": [],
   "source": [
    "pred_result=rf.predict(X_test_scaled)"
   ]
  },
  {
   "cell_type": "code",
   "execution_count": 82,
   "id": "6751ac75",
   "metadata": {},
   "outputs": [
    {
     "name": "stdout",
     "output_type": "stream",
     "text": [
      "[[38 10]\n",
      " [ 3 29]]\n"
     ]
    }
   ],
   "source": [
    "print(confusion_matrix(y_test,pred_result))"
   ]
  },
  {
   "cell_type": "code",
   "execution_count": 83,
   "id": "c8adee94",
   "metadata": {},
   "outputs": [
    {
     "name": "stdout",
     "output_type": "stream",
     "text": [
      "              precision    recall  f1-score   support\n",
      "\n",
      "           0       0.93      0.79      0.85        48\n",
      "           1       0.74      0.91      0.82        32\n",
      "\n",
      "    accuracy                           0.84        80\n",
      "   macro avg       0.84      0.85      0.84        80\n",
      "weighted avg       0.85      0.84      0.84        80\n",
      "\n"
     ]
    }
   ],
   "source": [
    "print(classification_report(y_test,pred_result))"
   ]
  },
  {
   "cell_type": "code",
   "execution_count": 84,
   "id": "37eb0365",
   "metadata": {},
   "outputs": [],
   "source": [
    "fpr,tpr,thresholds=roc_curve(y_test,pred_result)"
   ]
  },
  {
   "cell_type": "code",
   "execution_count": 85,
   "id": "214d9251",
   "metadata": {},
   "outputs": [
    {
     "data": {
      "text/html": [
       "<div>\n",
       "<style scoped>\n",
       "    .dataframe tbody tr th:only-of-type {\n",
       "        vertical-align: middle;\n",
       "    }\n",
       "\n",
       "    .dataframe tbody tr th {\n",
       "        vertical-align: top;\n",
       "    }\n",
       "\n",
       "    .dataframe thead th {\n",
       "        text-align: right;\n",
       "    }\n",
       "</style>\n",
       "<table border=\"1\" class=\"dataframe\">\n",
       "  <thead>\n",
       "    <tr style=\"text-align: right;\">\n",
       "      <th></th>\n",
       "      <th>Model</th>\n",
       "      <th>Accuracy</th>\n",
       "      <th>Precision</th>\n",
       "      <th>Recall</th>\n",
       "      <th>AUC</th>\n",
       "    </tr>\n",
       "  </thead>\n",
       "  <tbody>\n",
       "    <tr>\n",
       "      <th>0</th>\n",
       "      <td>LR</td>\n",
       "      <td>0.825</td>\n",
       "      <td>0.764706</td>\n",
       "      <td>0.8125</td>\n",
       "      <td>0.822917</td>\n",
       "    </tr>\n",
       "    <tr>\n",
       "      <th>1</th>\n",
       "      <td>DT</td>\n",
       "      <td>0.7875</td>\n",
       "      <td>0.741935</td>\n",
       "      <td>0.71875</td>\n",
       "      <td>0.776042</td>\n",
       "    </tr>\n",
       "    <tr>\n",
       "      <th>2</th>\n",
       "      <td>RF</td>\n",
       "      <td>0.8375</td>\n",
       "      <td>0.74359</td>\n",
       "      <td>0.90625</td>\n",
       "      <td>0.848958</td>\n",
       "    </tr>\n",
       "  </tbody>\n",
       "</table>\n",
       "</div>"
      ],
      "text/plain": [
       "  Model Accuracy Precision   Recall       AUC\n",
       "0    LR    0.825  0.764706   0.8125  0.822917\n",
       "1    DT   0.7875  0.741935  0.71875  0.776042\n",
       "2    RF   0.8375   0.74359  0.90625  0.848958"
      ]
     },
     "execution_count": 85,
     "metadata": {},
     "output_type": "execute_result"
    }
   ],
   "source": [
    "#Tabulating the results\n",
    "\n",
    "rf_metrics=pd.Series({'Model':'RF',\n",
    "                     'Accuracy':accuracy_score(y_test,pred_result),\n",
    "                     'Precision':precision_score(y_test,pred_result),\n",
    "                     'Recall':recall_score(y_test,pred_result),\n",
    "                     'AUC':auc(fpr,tpr)})\n",
    "\n",
    "result=result.append(rf_metrics,ignore_index=True)\n",
    "\n",
    "result"
   ]
  },
  {
   "cell_type": "markdown",
   "id": "472451fd",
   "metadata": {},
   "source": [
    "### 4.KNN"
   ]
  },
  {
   "cell_type": "code",
   "execution_count": 92,
   "id": "f37705f8",
   "metadata": {},
   "outputs": [],
   "source": [
    "#Getting the optimum k value"
   ]
  },
  {
   "cell_type": "code",
   "execution_count": 88,
   "id": "515f433a",
   "metadata": {},
   "outputs": [],
   "source": [
    "k_values=range(3,21)"
   ]
  },
  {
   "cell_type": "code",
   "execution_count": 89,
   "id": "fe90ecd1",
   "metadata": {},
   "outputs": [],
   "source": [
    "acc_score={}"
   ]
  },
  {
   "cell_type": "code",
   "execution_count": 100,
   "id": "14d8fb99",
   "metadata": {},
   "outputs": [],
   "source": [
    "for k in k_values:\n",
    "    knn=KNeighborsClassifier(n_neighbors=k)\n",
    "    knn.fit(X_train_scaled,y_train)\n",
    "    pred_result=knn.predict(X_test_scaled)\n",
    "    acc_score[k]=accuracy_score(y_test,pred_result)"
   ]
  },
  {
   "cell_type": "code",
   "execution_count": 101,
   "id": "3db34248",
   "metadata": {},
   "outputs": [
    {
     "data": {
      "text/plain": [
       "0.9"
      ]
     },
     "execution_count": 101,
     "metadata": {},
     "output_type": "execute_result"
    }
   ],
   "source": [
    "max(acc_score.values())"
   ]
  },
  {
   "cell_type": "code",
   "execution_count": 102,
   "id": "b8a1fff7",
   "metadata": {},
   "outputs": [
    {
     "data": {
      "text/plain": [
       "20"
      ]
     },
     "execution_count": 102,
     "metadata": {},
     "output_type": "execute_result"
    }
   ],
   "source": [
    "max(acc_score,key=acc_score.get)"
   ]
  },
  {
   "cell_type": "code",
   "execution_count": 103,
   "id": "a723616e",
   "metadata": {},
   "outputs": [],
   "source": [
    "#Building the model"
   ]
  },
  {
   "cell_type": "code",
   "execution_count": 104,
   "id": "2e42f2ea",
   "metadata": {},
   "outputs": [],
   "source": [
    "knn=KNeighborsClassifier(n_neighbors=20)\n",
    "knn.fit(X_train_scaled,y_train)\n",
    "pred_result=knn.predict(X_test_scaled)"
   ]
  },
  {
   "cell_type": "code",
   "execution_count": 105,
   "id": "f88e7ead",
   "metadata": {},
   "outputs": [
    {
     "name": "stdout",
     "output_type": "stream",
     "text": [
      "[[42  6]\n",
      " [ 2 30]]\n"
     ]
    }
   ],
   "source": [
    "print(confusion_matrix(y_test,pred_result))"
   ]
  },
  {
   "cell_type": "code",
   "execution_count": 106,
   "id": "67f1ce6d",
   "metadata": {},
   "outputs": [
    {
     "name": "stdout",
     "output_type": "stream",
     "text": [
      "              precision    recall  f1-score   support\n",
      "\n",
      "           0       0.95      0.88      0.91        48\n",
      "           1       0.83      0.94      0.88        32\n",
      "\n",
      "    accuracy                           0.90        80\n",
      "   macro avg       0.89      0.91      0.90        80\n",
      "weighted avg       0.91      0.90      0.90        80\n",
      "\n"
     ]
    }
   ],
   "source": [
    "print(classification_report(y_test,pred_result))"
   ]
  },
  {
   "cell_type": "code",
   "execution_count": 107,
   "id": "b4fe3ded",
   "metadata": {},
   "outputs": [],
   "source": [
    "fpr,tpr,thresholds=roc_curve(y_test,pred_result)"
   ]
  },
  {
   "cell_type": "code",
   "execution_count": 108,
   "id": "011efb44",
   "metadata": {},
   "outputs": [
    {
     "data": {
      "text/html": [
       "<div>\n",
       "<style scoped>\n",
       "    .dataframe tbody tr th:only-of-type {\n",
       "        vertical-align: middle;\n",
       "    }\n",
       "\n",
       "    .dataframe tbody tr th {\n",
       "        vertical-align: top;\n",
       "    }\n",
       "\n",
       "    .dataframe thead th {\n",
       "        text-align: right;\n",
       "    }\n",
       "</style>\n",
       "<table border=\"1\" class=\"dataframe\">\n",
       "  <thead>\n",
       "    <tr style=\"text-align: right;\">\n",
       "      <th></th>\n",
       "      <th>Model</th>\n",
       "      <th>Accuracy</th>\n",
       "      <th>Precision</th>\n",
       "      <th>Recall</th>\n",
       "      <th>AUC</th>\n",
       "    </tr>\n",
       "  </thead>\n",
       "  <tbody>\n",
       "    <tr>\n",
       "      <th>0</th>\n",
       "      <td>LR</td>\n",
       "      <td>0.825</td>\n",
       "      <td>0.764706</td>\n",
       "      <td>0.8125</td>\n",
       "      <td>0.822917</td>\n",
       "    </tr>\n",
       "    <tr>\n",
       "      <th>1</th>\n",
       "      <td>DT</td>\n",
       "      <td>0.7875</td>\n",
       "      <td>0.741935</td>\n",
       "      <td>0.71875</td>\n",
       "      <td>0.776042</td>\n",
       "    </tr>\n",
       "    <tr>\n",
       "      <th>2</th>\n",
       "      <td>RF</td>\n",
       "      <td>0.8375</td>\n",
       "      <td>0.74359</td>\n",
       "      <td>0.90625</td>\n",
       "      <td>0.848958</td>\n",
       "    </tr>\n",
       "    <tr>\n",
       "      <th>3</th>\n",
       "      <td>KNN</td>\n",
       "      <td>0.9</td>\n",
       "      <td>0.833333</td>\n",
       "      <td>0.9375</td>\n",
       "      <td>0.90625</td>\n",
       "    </tr>\n",
       "  </tbody>\n",
       "</table>\n",
       "</div>"
      ],
      "text/plain": [
       "  Model Accuracy Precision   Recall       AUC\n",
       "0    LR    0.825  0.764706   0.8125  0.822917\n",
       "1    DT   0.7875  0.741935  0.71875  0.776042\n",
       "2    RF   0.8375   0.74359  0.90625  0.848958\n",
       "3   KNN      0.9  0.833333   0.9375   0.90625"
      ]
     },
     "execution_count": 108,
     "metadata": {},
     "output_type": "execute_result"
    }
   ],
   "source": [
    "#Tabulating the results\n",
    "\n",
    "knn_metrics=pd.Series({'Model':'KNN',\n",
    "                     'Accuracy':accuracy_score(y_test,pred_result),\n",
    "                     'Precision':precision_score(y_test,pred_result),\n",
    "                     'Recall':recall_score(y_test,pred_result),\n",
    "                     'AUC':auc(fpr,tpr)})\n",
    "\n",
    "result=result.append(knn_metrics,ignore_index=True)\n",
    "\n",
    "result"
   ]
  },
  {
   "cell_type": "markdown",
   "id": "14beaad9",
   "metadata": {},
   "source": [
    "### 5.SVC"
   ]
  },
  {
   "cell_type": "markdown",
   "id": "f7a8b883",
   "metadata": {},
   "source": [
    "#### A.Linear Kernel"
   ]
  },
  {
   "cell_type": "code",
   "execution_count": 110,
   "id": "359e987f",
   "metadata": {},
   "outputs": [],
   "source": [
    "svc1=SVC(kernel='linear')\n",
    "\n",
    "svc1.fit(X_train_scaled,y_train)\n",
    "\n",
    "pred_result=svc1.predict(X_test_scaled)"
   ]
  },
  {
   "cell_type": "code",
   "execution_count": 111,
   "id": "701700d4",
   "metadata": {},
   "outputs": [
    {
     "name": "stdout",
     "output_type": "stream",
     "text": [
      "[[42  6]\n",
      " [ 7 25]]\n"
     ]
    }
   ],
   "source": [
    "print(confusion_matrix(y_test,pred_result))"
   ]
  },
  {
   "cell_type": "code",
   "execution_count": 112,
   "id": "ef4c12f7",
   "metadata": {},
   "outputs": [
    {
     "name": "stdout",
     "output_type": "stream",
     "text": [
      "              precision    recall  f1-score   support\n",
      "\n",
      "           0       0.86      0.88      0.87        48\n",
      "           1       0.81      0.78      0.79        32\n",
      "\n",
      "    accuracy                           0.84        80\n",
      "   macro avg       0.83      0.83      0.83        80\n",
      "weighted avg       0.84      0.84      0.84        80\n",
      "\n"
     ]
    }
   ],
   "source": [
    "print(classification_report(y_test,pred_result))"
   ]
  },
  {
   "cell_type": "code",
   "execution_count": 113,
   "id": "c4998c18",
   "metadata": {},
   "outputs": [],
   "source": [
    "fpr,tpr,thresholds=roc_curve(y_test,pred_result)"
   ]
  },
  {
   "cell_type": "code",
   "execution_count": 114,
   "id": "b0bbc8c9",
   "metadata": {},
   "outputs": [
    {
     "data": {
      "text/html": [
       "<div>\n",
       "<style scoped>\n",
       "    .dataframe tbody tr th:only-of-type {\n",
       "        vertical-align: middle;\n",
       "    }\n",
       "\n",
       "    .dataframe tbody tr th {\n",
       "        vertical-align: top;\n",
       "    }\n",
       "\n",
       "    .dataframe thead th {\n",
       "        text-align: right;\n",
       "    }\n",
       "</style>\n",
       "<table border=\"1\" class=\"dataframe\">\n",
       "  <thead>\n",
       "    <tr style=\"text-align: right;\">\n",
       "      <th></th>\n",
       "      <th>Model</th>\n",
       "      <th>Accuracy</th>\n",
       "      <th>Precision</th>\n",
       "      <th>Recall</th>\n",
       "      <th>AUC</th>\n",
       "    </tr>\n",
       "  </thead>\n",
       "  <tbody>\n",
       "    <tr>\n",
       "      <th>0</th>\n",
       "      <td>LR</td>\n",
       "      <td>0.825</td>\n",
       "      <td>0.764706</td>\n",
       "      <td>0.8125</td>\n",
       "      <td>0.822917</td>\n",
       "    </tr>\n",
       "    <tr>\n",
       "      <th>1</th>\n",
       "      <td>DT</td>\n",
       "      <td>0.7875</td>\n",
       "      <td>0.741935</td>\n",
       "      <td>0.71875</td>\n",
       "      <td>0.776042</td>\n",
       "    </tr>\n",
       "    <tr>\n",
       "      <th>2</th>\n",
       "      <td>RF</td>\n",
       "      <td>0.8375</td>\n",
       "      <td>0.74359</td>\n",
       "      <td>0.90625</td>\n",
       "      <td>0.848958</td>\n",
       "    </tr>\n",
       "    <tr>\n",
       "      <th>3</th>\n",
       "      <td>KNN</td>\n",
       "      <td>0.9</td>\n",
       "      <td>0.833333</td>\n",
       "      <td>0.9375</td>\n",
       "      <td>0.90625</td>\n",
       "    </tr>\n",
       "    <tr>\n",
       "      <th>4</th>\n",
       "      <td>SVC_linear</td>\n",
       "      <td>0.8375</td>\n",
       "      <td>0.806452</td>\n",
       "      <td>0.78125</td>\n",
       "      <td>0.828125</td>\n",
       "    </tr>\n",
       "  </tbody>\n",
       "</table>\n",
       "</div>"
      ],
      "text/plain": [
       "        Model Accuracy Precision   Recall       AUC\n",
       "0          LR    0.825  0.764706   0.8125  0.822917\n",
       "1          DT   0.7875  0.741935  0.71875  0.776042\n",
       "2          RF   0.8375   0.74359  0.90625  0.848958\n",
       "3         KNN      0.9  0.833333   0.9375   0.90625\n",
       "4  SVC_linear   0.8375  0.806452  0.78125  0.828125"
      ]
     },
     "execution_count": 114,
     "metadata": {},
     "output_type": "execute_result"
    }
   ],
   "source": [
    "#Tabulating the results\n",
    "\n",
    "svc_linear_metrics=pd.Series({'Model':'SVC_linear',\n",
    "                     'Accuracy':accuracy_score(y_test,pred_result),\n",
    "                     'Precision':precision_score(y_test,pred_result),\n",
    "                     'Recall':recall_score(y_test,pred_result),\n",
    "                     'AUC':auc(fpr,tpr)})\n",
    "\n",
    "result=result.append(svc_linear_metrics,ignore_index=True)\n",
    "\n",
    "result"
   ]
  },
  {
   "cell_type": "markdown",
   "id": "d960e8c3",
   "metadata": {},
   "source": [
    "#### B. Radial Kernel"
   ]
  },
  {
   "cell_type": "code",
   "execution_count": 115,
   "id": "5ec58246",
   "metadata": {},
   "outputs": [],
   "source": [
    "svc2=SVC(kernel='rbf')\n",
    "\n",
    "svc2.fit(X_train_scaled,y_train)\n",
    "\n",
    "pred_result=svc2.predict(X_test_scaled)"
   ]
  },
  {
   "cell_type": "code",
   "execution_count": 116,
   "id": "93047981",
   "metadata": {},
   "outputs": [
    {
     "name": "stdout",
     "output_type": "stream",
     "text": [
      "[[39  9]\n",
      " [ 2 30]]\n"
     ]
    }
   ],
   "source": [
    "print(confusion_matrix(y_test,pred_result))"
   ]
  },
  {
   "cell_type": "code",
   "execution_count": 117,
   "id": "91837658",
   "metadata": {},
   "outputs": [
    {
     "name": "stdout",
     "output_type": "stream",
     "text": [
      "              precision    recall  f1-score   support\n",
      "\n",
      "           0       0.95      0.81      0.88        48\n",
      "           1       0.77      0.94      0.85        32\n",
      "\n",
      "    accuracy                           0.86        80\n",
      "   macro avg       0.86      0.88      0.86        80\n",
      "weighted avg       0.88      0.86      0.86        80\n",
      "\n"
     ]
    }
   ],
   "source": [
    "print(classification_report(y_test,pred_result))"
   ]
  },
  {
   "cell_type": "code",
   "execution_count": 118,
   "id": "c59a2acd",
   "metadata": {},
   "outputs": [],
   "source": [
    "fpr,tpr,thresholds=roc_curve(y_test,pred_result)"
   ]
  },
  {
   "cell_type": "code",
   "execution_count": 119,
   "id": "7e474e45",
   "metadata": {},
   "outputs": [
    {
     "data": {
      "text/html": [
       "<div>\n",
       "<style scoped>\n",
       "    .dataframe tbody tr th:only-of-type {\n",
       "        vertical-align: middle;\n",
       "    }\n",
       "\n",
       "    .dataframe tbody tr th {\n",
       "        vertical-align: top;\n",
       "    }\n",
       "\n",
       "    .dataframe thead th {\n",
       "        text-align: right;\n",
       "    }\n",
       "</style>\n",
       "<table border=\"1\" class=\"dataframe\">\n",
       "  <thead>\n",
       "    <tr style=\"text-align: right;\">\n",
       "      <th></th>\n",
       "      <th>Model</th>\n",
       "      <th>Accuracy</th>\n",
       "      <th>Precision</th>\n",
       "      <th>Recall</th>\n",
       "      <th>AUC</th>\n",
       "    </tr>\n",
       "  </thead>\n",
       "  <tbody>\n",
       "    <tr>\n",
       "      <th>0</th>\n",
       "      <td>LR</td>\n",
       "      <td>0.825</td>\n",
       "      <td>0.764706</td>\n",
       "      <td>0.8125</td>\n",
       "      <td>0.822917</td>\n",
       "    </tr>\n",
       "    <tr>\n",
       "      <th>1</th>\n",
       "      <td>DT</td>\n",
       "      <td>0.7875</td>\n",
       "      <td>0.741935</td>\n",
       "      <td>0.71875</td>\n",
       "      <td>0.776042</td>\n",
       "    </tr>\n",
       "    <tr>\n",
       "      <th>2</th>\n",
       "      <td>RF</td>\n",
       "      <td>0.8375</td>\n",
       "      <td>0.74359</td>\n",
       "      <td>0.90625</td>\n",
       "      <td>0.848958</td>\n",
       "    </tr>\n",
       "    <tr>\n",
       "      <th>3</th>\n",
       "      <td>KNN</td>\n",
       "      <td>0.9</td>\n",
       "      <td>0.833333</td>\n",
       "      <td>0.9375</td>\n",
       "      <td>0.90625</td>\n",
       "    </tr>\n",
       "    <tr>\n",
       "      <th>4</th>\n",
       "      <td>SVC_linear</td>\n",
       "      <td>0.8375</td>\n",
       "      <td>0.806452</td>\n",
       "      <td>0.78125</td>\n",
       "      <td>0.828125</td>\n",
       "    </tr>\n",
       "    <tr>\n",
       "      <th>5</th>\n",
       "      <td>SVC_radial</td>\n",
       "      <td>0.8625</td>\n",
       "      <td>0.769231</td>\n",
       "      <td>0.9375</td>\n",
       "      <td>0.875</td>\n",
       "    </tr>\n",
       "  </tbody>\n",
       "</table>\n",
       "</div>"
      ],
      "text/plain": [
       "        Model Accuracy Precision   Recall       AUC\n",
       "0          LR    0.825  0.764706   0.8125  0.822917\n",
       "1          DT   0.7875  0.741935  0.71875  0.776042\n",
       "2          RF   0.8375   0.74359  0.90625  0.848958\n",
       "3         KNN      0.9  0.833333   0.9375   0.90625\n",
       "4  SVC_linear   0.8375  0.806452  0.78125  0.828125\n",
       "5  SVC_radial   0.8625  0.769231   0.9375     0.875"
      ]
     },
     "execution_count": 119,
     "metadata": {},
     "output_type": "execute_result"
    }
   ],
   "source": [
    "#Tabulating the results\n",
    "\n",
    "svc_radial_metrics=pd.Series({'Model':'SVC_radial',\n",
    "                     'Accuracy':accuracy_score(y_test,pred_result),\n",
    "                     'Precision':precision_score(y_test,pred_result),\n",
    "                     'Recall':recall_score(y_test,pred_result),\n",
    "                     'AUC':auc(fpr,tpr)})\n",
    "\n",
    "result=result.append(svc_radial_metrics,ignore_index=True)\n",
    "\n",
    "result"
   ]
  },
  {
   "cell_type": "markdown",
   "id": "92a31c5c",
   "metadata": {},
   "source": [
    "#### C. Sigmoid Kernel"
   ]
  },
  {
   "cell_type": "code",
   "execution_count": 120,
   "id": "b8dd5437",
   "metadata": {},
   "outputs": [],
   "source": [
    "svc3=SVC(kernel='sigmoid')\n",
    "\n",
    "svc3.fit(X_train_scaled,y_train)\n",
    "\n",
    "pred_result=svc3.predict(X_test_scaled)"
   ]
  },
  {
   "cell_type": "code",
   "execution_count": 121,
   "id": "6c42831a",
   "metadata": {},
   "outputs": [
    {
     "name": "stdout",
     "output_type": "stream",
     "text": [
      "[[41  7]\n",
      " [ 8 24]]\n"
     ]
    }
   ],
   "source": [
    "print(confusion_matrix(y_test,pred_result))"
   ]
  },
  {
   "cell_type": "code",
   "execution_count": 122,
   "id": "446a1fa2",
   "metadata": {},
   "outputs": [
    {
     "name": "stdout",
     "output_type": "stream",
     "text": [
      "              precision    recall  f1-score   support\n",
      "\n",
      "           0       0.84      0.85      0.85        48\n",
      "           1       0.77      0.75      0.76        32\n",
      "\n",
      "    accuracy                           0.81        80\n",
      "   macro avg       0.81      0.80      0.80        80\n",
      "weighted avg       0.81      0.81      0.81        80\n",
      "\n"
     ]
    }
   ],
   "source": [
    "print(classification_report(y_test,pred_result))"
   ]
  },
  {
   "cell_type": "code",
   "execution_count": 123,
   "id": "44bb0d66",
   "metadata": {},
   "outputs": [],
   "source": [
    "fpr,tpr,thresholds=roc_curve(y_test,pred_result)"
   ]
  },
  {
   "cell_type": "code",
   "execution_count": 124,
   "id": "d14f5ba1",
   "metadata": {},
   "outputs": [
    {
     "data": {
      "text/html": [
       "<div>\n",
       "<style scoped>\n",
       "    .dataframe tbody tr th:only-of-type {\n",
       "        vertical-align: middle;\n",
       "    }\n",
       "\n",
       "    .dataframe tbody tr th {\n",
       "        vertical-align: top;\n",
       "    }\n",
       "\n",
       "    .dataframe thead th {\n",
       "        text-align: right;\n",
       "    }\n",
       "</style>\n",
       "<table border=\"1\" class=\"dataframe\">\n",
       "  <thead>\n",
       "    <tr style=\"text-align: right;\">\n",
       "      <th></th>\n",
       "      <th>Model</th>\n",
       "      <th>Accuracy</th>\n",
       "      <th>Precision</th>\n",
       "      <th>Recall</th>\n",
       "      <th>AUC</th>\n",
       "    </tr>\n",
       "  </thead>\n",
       "  <tbody>\n",
       "    <tr>\n",
       "      <th>0</th>\n",
       "      <td>LR</td>\n",
       "      <td>0.825</td>\n",
       "      <td>0.764706</td>\n",
       "      <td>0.8125</td>\n",
       "      <td>0.822917</td>\n",
       "    </tr>\n",
       "    <tr>\n",
       "      <th>1</th>\n",
       "      <td>DT</td>\n",
       "      <td>0.7875</td>\n",
       "      <td>0.741935</td>\n",
       "      <td>0.71875</td>\n",
       "      <td>0.776042</td>\n",
       "    </tr>\n",
       "    <tr>\n",
       "      <th>2</th>\n",
       "      <td>RF</td>\n",
       "      <td>0.8375</td>\n",
       "      <td>0.74359</td>\n",
       "      <td>0.90625</td>\n",
       "      <td>0.848958</td>\n",
       "    </tr>\n",
       "    <tr>\n",
       "      <th>3</th>\n",
       "      <td>KNN</td>\n",
       "      <td>0.9</td>\n",
       "      <td>0.833333</td>\n",
       "      <td>0.9375</td>\n",
       "      <td>0.90625</td>\n",
       "    </tr>\n",
       "    <tr>\n",
       "      <th>4</th>\n",
       "      <td>SVC_linear</td>\n",
       "      <td>0.8375</td>\n",
       "      <td>0.806452</td>\n",
       "      <td>0.78125</td>\n",
       "      <td>0.828125</td>\n",
       "    </tr>\n",
       "    <tr>\n",
       "      <th>5</th>\n",
       "      <td>SVC_radial</td>\n",
       "      <td>0.8625</td>\n",
       "      <td>0.769231</td>\n",
       "      <td>0.9375</td>\n",
       "      <td>0.875</td>\n",
       "    </tr>\n",
       "    <tr>\n",
       "      <th>6</th>\n",
       "      <td>SVC_sigmoid</td>\n",
       "      <td>0.8125</td>\n",
       "      <td>0.774194</td>\n",
       "      <td>0.75</td>\n",
       "      <td>0.802083</td>\n",
       "    </tr>\n",
       "  </tbody>\n",
       "</table>\n",
       "</div>"
      ],
      "text/plain": [
       "         Model Accuracy Precision   Recall       AUC\n",
       "0           LR    0.825  0.764706   0.8125  0.822917\n",
       "1           DT   0.7875  0.741935  0.71875  0.776042\n",
       "2           RF   0.8375   0.74359  0.90625  0.848958\n",
       "3          KNN      0.9  0.833333   0.9375   0.90625\n",
       "4   SVC_linear   0.8375  0.806452  0.78125  0.828125\n",
       "5   SVC_radial   0.8625  0.769231   0.9375     0.875\n",
       "6  SVC_sigmoid   0.8125  0.774194     0.75  0.802083"
      ]
     },
     "execution_count": 124,
     "metadata": {},
     "output_type": "execute_result"
    }
   ],
   "source": [
    "#Tabulating the results\n",
    "\n",
    "svc_sigmoid_metrics=pd.Series({'Model':'SVC_sigmoid',\n",
    "                     'Accuracy':accuracy_score(y_test,pred_result),\n",
    "                     'Precision':precision_score(y_test,pred_result),\n",
    "                     'Recall':recall_score(y_test,pred_result),\n",
    "                     'AUC':auc(fpr,tpr)})\n",
    "\n",
    "result=result.append(svc_sigmoid_metrics,ignore_index=True)\n",
    "\n",
    "result"
   ]
  },
  {
   "cell_type": "markdown",
   "id": "a6a0c14b",
   "metadata": {},
   "source": [
    "#### D. Poly Kernel"
   ]
  },
  {
   "cell_type": "code",
   "execution_count": 125,
   "id": "6e234fd1",
   "metadata": {},
   "outputs": [],
   "source": [
    "svc4=SVC(kernel='poly')\n",
    "\n",
    "svc4.fit(X_train_scaled,y_train)\n",
    "\n",
    "pred_result=svc4.predict(X_test_scaled)"
   ]
  },
  {
   "cell_type": "code",
   "execution_count": 126,
   "id": "516cdc15",
   "metadata": {},
   "outputs": [
    {
     "name": "stdout",
     "output_type": "stream",
     "text": [
      "[[40  8]\n",
      " [ 8 24]]\n"
     ]
    }
   ],
   "source": [
    "print(confusion_matrix(y_test,pred_result))"
   ]
  },
  {
   "cell_type": "code",
   "execution_count": 127,
   "id": "298be8ee",
   "metadata": {},
   "outputs": [
    {
     "name": "stdout",
     "output_type": "stream",
     "text": [
      "              precision    recall  f1-score   support\n",
      "\n",
      "           0       0.83      0.83      0.83        48\n",
      "           1       0.75      0.75      0.75        32\n",
      "\n",
      "    accuracy                           0.80        80\n",
      "   macro avg       0.79      0.79      0.79        80\n",
      "weighted avg       0.80      0.80      0.80        80\n",
      "\n"
     ]
    }
   ],
   "source": [
    "print(classification_report(y_test,pred_result))"
   ]
  },
  {
   "cell_type": "code",
   "execution_count": 128,
   "id": "d3d12103",
   "metadata": {},
   "outputs": [],
   "source": [
    "fpr,tpr,thresholds=roc_curve(y_test,pred_result)"
   ]
  },
  {
   "cell_type": "code",
   "execution_count": 129,
   "id": "5bb44115",
   "metadata": {},
   "outputs": [
    {
     "data": {
      "text/html": [
       "<div>\n",
       "<style scoped>\n",
       "    .dataframe tbody tr th:only-of-type {\n",
       "        vertical-align: middle;\n",
       "    }\n",
       "\n",
       "    .dataframe tbody tr th {\n",
       "        vertical-align: top;\n",
       "    }\n",
       "\n",
       "    .dataframe thead th {\n",
       "        text-align: right;\n",
       "    }\n",
       "</style>\n",
       "<table border=\"1\" class=\"dataframe\">\n",
       "  <thead>\n",
       "    <tr style=\"text-align: right;\">\n",
       "      <th></th>\n",
       "      <th>Model</th>\n",
       "      <th>Accuracy</th>\n",
       "      <th>Precision</th>\n",
       "      <th>Recall</th>\n",
       "      <th>AUC</th>\n",
       "    </tr>\n",
       "  </thead>\n",
       "  <tbody>\n",
       "    <tr>\n",
       "      <th>0</th>\n",
       "      <td>LR</td>\n",
       "      <td>0.825</td>\n",
       "      <td>0.764706</td>\n",
       "      <td>0.8125</td>\n",
       "      <td>0.822917</td>\n",
       "    </tr>\n",
       "    <tr>\n",
       "      <th>1</th>\n",
       "      <td>DT</td>\n",
       "      <td>0.7875</td>\n",
       "      <td>0.741935</td>\n",
       "      <td>0.71875</td>\n",
       "      <td>0.776042</td>\n",
       "    </tr>\n",
       "    <tr>\n",
       "      <th>2</th>\n",
       "      <td>RF</td>\n",
       "      <td>0.8375</td>\n",
       "      <td>0.74359</td>\n",
       "      <td>0.90625</td>\n",
       "      <td>0.848958</td>\n",
       "    </tr>\n",
       "    <tr>\n",
       "      <th>3</th>\n",
       "      <td>KNN</td>\n",
       "      <td>0.9</td>\n",
       "      <td>0.833333</td>\n",
       "      <td>0.9375</td>\n",
       "      <td>0.90625</td>\n",
       "    </tr>\n",
       "    <tr>\n",
       "      <th>4</th>\n",
       "      <td>SVC_linear</td>\n",
       "      <td>0.8375</td>\n",
       "      <td>0.806452</td>\n",
       "      <td>0.78125</td>\n",
       "      <td>0.828125</td>\n",
       "    </tr>\n",
       "    <tr>\n",
       "      <th>5</th>\n",
       "      <td>SVC_radial</td>\n",
       "      <td>0.8625</td>\n",
       "      <td>0.769231</td>\n",
       "      <td>0.9375</td>\n",
       "      <td>0.875</td>\n",
       "    </tr>\n",
       "    <tr>\n",
       "      <th>6</th>\n",
       "      <td>SVC_sigmoid</td>\n",
       "      <td>0.8125</td>\n",
       "      <td>0.774194</td>\n",
       "      <td>0.75</td>\n",
       "      <td>0.802083</td>\n",
       "    </tr>\n",
       "    <tr>\n",
       "      <th>7</th>\n",
       "      <td>SVC_poly</td>\n",
       "      <td>0.8</td>\n",
       "      <td>0.75</td>\n",
       "      <td>0.75</td>\n",
       "      <td>0.791667</td>\n",
       "    </tr>\n",
       "  </tbody>\n",
       "</table>\n",
       "</div>"
      ],
      "text/plain": [
       "         Model Accuracy Precision   Recall       AUC\n",
       "0           LR    0.825  0.764706   0.8125  0.822917\n",
       "1           DT   0.7875  0.741935  0.71875  0.776042\n",
       "2           RF   0.8375   0.74359  0.90625  0.848958\n",
       "3          KNN      0.9  0.833333   0.9375   0.90625\n",
       "4   SVC_linear   0.8375  0.806452  0.78125  0.828125\n",
       "5   SVC_radial   0.8625  0.769231   0.9375     0.875\n",
       "6  SVC_sigmoid   0.8125  0.774194     0.75  0.802083\n",
       "7     SVC_poly      0.8      0.75     0.75  0.791667"
      ]
     },
     "execution_count": 129,
     "metadata": {},
     "output_type": "execute_result"
    }
   ],
   "source": [
    "#Tabulating the results\n",
    "\n",
    "svc_poly_metrics=pd.Series({'Model':'SVC_poly',\n",
    "                     'Accuracy':accuracy_score(y_test,pred_result),\n",
    "                     'Precision':precision_score(y_test,pred_result),\n",
    "                     'Recall':recall_score(y_test,pred_result),\n",
    "                     'AUC':auc(fpr,tpr)})\n",
    "\n",
    "result=result.append(svc_poly_metrics,ignore_index=True)\n",
    "\n",
    "result"
   ]
  },
  {
   "cell_type": "markdown",
   "id": "e7f45a50",
   "metadata": {},
   "source": [
    "Comparing all the above models, we can find that KNN is the best models for this dataset, with an accuracy of 90% and recall of 93.75%."
   ]
  }
 ],
 "metadata": {
  "kernelspec": {
   "display_name": "Python 3 (ipykernel)",
   "language": "python",
   "name": "python3"
  },
  "language_info": {
   "codemirror_mode": {
    "name": "ipython",
    "version": 3
   },
   "file_extension": ".py",
   "mimetype": "text/x-python",
   "name": "python",
   "nbconvert_exporter": "python",
   "pygments_lexer": "ipython3",
   "version": "3.9.12"
  }
 },
 "nbformat": 4,
 "nbformat_minor": 5
}
